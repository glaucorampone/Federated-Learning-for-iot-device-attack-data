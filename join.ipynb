{
 "cells": [
  {
   "metadata": {
    "ExecuteTime": {
     "end_time": "2025-02-16T16:29:36.632335Z",
     "start_time": "2025-02-16T16:29:16.117488Z"
    }
   },
   "cell_type": "code",
   "source": [
    "import pandas as pd\n",
    "\n",
    "dataset = pd.read_csv('os_scan/OS Scan_dataset.csv.gz', header=None)\n",
    "labels = pd.read_csv('os_scan/OS Scan_labels.csv.gz')"
   ],
   "id": "f869ce5b64bffd4",
   "outputs": [],
   "execution_count": 3
  },
  {
   "metadata": {
    "ExecuteTime": {
     "end_time": "2025-02-16T16:29:43.631714Z",
     "start_time": "2025-02-16T16:29:43.624897Z"
    }
   },
   "cell_type": "code",
   "source": "dataset.shape",
   "id": "3cff4b6f8045af03",
   "outputs": [
    {
     "data": {
      "text/plain": [
       "(1697851, 115)"
      ]
     },
     "execution_count": 4,
     "metadata": {},
     "output_type": "execute_result"
    }
   ],
   "execution_count": 4
  },
  {
   "metadata": {
    "ExecuteTime": {
     "end_time": "2025-02-16T16:29:44.919731Z",
     "start_time": "2025-02-16T16:29:44.914376Z"
    }
   },
   "cell_type": "code",
   "source": "labels.shape",
   "id": "477618cc5fc50d8c",
   "outputs": [
    {
     "data": {
      "text/plain": [
       "(1697851, 2)"
      ]
     },
     "execution_count": 5,
     "metadata": {},
     "output_type": "execute_result"
    }
   ],
   "execution_count": 5
  },
  {
   "metadata": {
    "ExecuteTime": {
     "end_time": "2025-02-16T16:32:29.194529Z",
     "start_time": "2025-02-16T16:32:28.583134Z"
    }
   },
   "cell_type": "code",
   "source": [
    "merge = pd.concat([dataset, labels], axis=1)\n",
    "merge = merge.drop(columns=['Unnamed: 0'])\n",
    "merge = merge.rename(columns={'x': 'label'})"
   ],
   "id": "189b3a77c73eae82",
   "outputs": [],
   "execution_count": 8
  },
  {
   "metadata": {
    "ExecuteTime": {
     "end_time": "2025-02-16T16:33:54.063558Z",
     "start_time": "2025-02-16T16:32:32.173547Z"
    }
   },
   "cell_type": "code",
   "source": "merge.to_csv('OS Scan-dataset_labels.csv')",
   "id": "c41b83acb5f50b53",
   "outputs": [],
   "execution_count": 9
  },
  {
   "metadata": {},
   "cell_type": "code",
   "source": "",
   "id": "678c6f1af29de5f3",
   "outputs": [],
   "execution_count": null
  }
 ],
 "metadata": {
  "kernelspec": {
   "name": "python3",
   "language": "python",
   "display_name": "Python 3 (ipykernel)"
  }
 },
 "nbformat": 5,
 "nbformat_minor": 9
}
